{
 "cells": [
  {
   "cell_type": "markdown",
   "metadata": {},
   "source": [
    "# Checking out Quandl/Zillow Real Estate API"
   ]
  },
  {
   "cell_type": "code",
   "execution_count": 1,
   "metadata": {},
   "outputs": [],
   "source": [
    "import pandas as pd\n",
    "import numpy as np\n",
    "import quandl\n",
    "import re\n",
    "from lib import quandl_api_key\n",
    "\n",
    "\"\"\"\n",
    "This is a notebook for automating exploration of Zillow Real Estate data from Quandl.\n",
    "As I learn more about Jupyter widgets, there will be updates. For now, check out how\n",
    "I got it done.\n",
    "\"\"\"\n",
    "quandl.ApiConfig.api_key = quandl_api_key\n",
    "\n",
    "def load_df():\n",
    "    data = pd.DataFrame()\n",
    "    zillow_codes = pd.read_csv('ZILLOW_metadata.csv.zip', compression='zip', usecols=['code', 'name'])\n",
    "    return zillow_codes"
   ]
  },
  {
   "cell_type": "code",
   "execution_count": 2,
   "metadata": {},
   "outputs": [],
   "source": [
    "#This function is based on user ganprad's get_df function from https://github.com/ganprad/rentorbuy/blob/master/rentorbuy.ipynb\n",
    "def get_df(df,col='code'):\n",
    "    ''' \n",
    "    Function takes in Zillow Metadata, and parses code column\n",
    "    for specific string and codes.\n",
    "    '''\n",
    "    metro = r'\\bM\\w+' #Finding values in code that begin with M. I.E., Metropolitan areas.\n",
    "    indices = [i for i,val in enumerate(df[col].str.findall(metro)) if val != []]\n",
    "    return df.iloc[indices,:]"
   ]
  },
  {
   "cell_type": "code",
   "execution_count": 3,
   "metadata": {},
   "outputs": [],
   "source": [
    "# Let's load our df in.\n",
    "metro_df = get_df(load_df(),col='code')"
   ]
  },
  {
   "cell_type": "code",
   "execution_count": 4,
   "metadata": {},
   "outputs": [],
   "source": [
    "# Extract the name of the metropolitan area. Be sure to clean further. There are sure to be issues with some names, such as Española.\n",
    "metro_df.name.values[:] = metro_df.loc[:,'name'].apply(lambda x: x.split('-')[-1].strip())"
   ]
  },
  {
   "cell_type": "code",
   "execution_count": 5,
   "metadata": {},
   "outputs": [
    {
     "data": {
      "text/html": [
       "<div>\n",
       "<style scoped>\n",
       "    .dataframe tbody tr th:only-of-type {\n",
       "        vertical-align: middle;\n",
       "    }\n",
       "\n",
       "    .dataframe tbody tr th {\n",
       "        vertical-align: top;\n",
       "    }\n",
       "\n",
       "    .dataframe thead th {\n",
       "        text-align: right;\n",
       "    }\n",
       "</style>\n",
       "<table border=\"1\" class=\"dataframe\">\n",
       "  <thead>\n",
       "    <tr style=\"text-align: right;\">\n",
       "      <th></th>\n",
       "      <th>code</th>\n",
       "      <th>name</th>\n",
       "    </tr>\n",
       "  </thead>\n",
       "  <tbody>\n",
       "    <tr>\n",
       "      <th>1898988</th>\n",
       "      <td>M1014_MPPRAH</td>\n",
       "      <td>Angola, IN</td>\n",
       "    </tr>\n",
       "    <tr>\n",
       "      <th>1987679</th>\n",
       "      <td>M744_ZTTY</td>\n",
       "      <td>Helena, AR</td>\n",
       "    </tr>\n",
       "    <tr>\n",
       "      <th>1927254</th>\n",
       "      <td>M183_ISA_BT_IMTP</td>\n",
       "      <td>Crestview, FL</td>\n",
       "    </tr>\n",
       "    <tr>\n",
       "      <th>1903021</th>\n",
       "      <td>M108_MLPBT</td>\n",
       "      <td>Kalamazoo, MI</td>\n",
       "    </tr>\n",
       "    <tr>\n",
       "      <th>1966321</th>\n",
       "      <td>M517_MDLNSAH</td>\n",
       "      <td>Midland, MI</td>\n",
       "    </tr>\n",
       "  </tbody>\n",
       "</table>\n",
       "</div>"
      ],
      "text/plain": [
       "                     code           name\n",
       "1898988      M1014_MPPRAH     Angola, IN\n",
       "1987679         M744_ZTTY     Helena, AR\n",
       "1927254  M183_ISA_BT_IMTP  Crestview, FL\n",
       "1903021        M108_MLPBT  Kalamazoo, MI\n",
       "1966321      M517_MDLNSAH    Midland, MI"
      ]
     },
     "execution_count": 5,
     "metadata": {},
     "output_type": "execute_result"
    }
   ],
   "source": [
    "# And let's see it.\n",
    "metro_df.sample(5)"
   ]
  },
  {
   "cell_type": "code",
   "execution_count": 6,
   "metadata": {},
   "outputs": [],
   "source": [
    "#A function to return a dataframe with codes corresponding to a specific metropolitan area.\n",
    "def get_metro(m_area):\n",
    "    m_query = f'name == \"{m_area}\"'\n",
    "    m_city = metro_df.query(m_query)\n",
    "    return m_city"
   ]
  },
  {
   "cell_type": "code",
   "execution_count": 7,
   "metadata": {},
   "outputs": [
    {
     "data": {
      "text/html": [
       "<div>\n",
       "<style scoped>\n",
       "    .dataframe tbody tr th:only-of-type {\n",
       "        vertical-align: middle;\n",
       "    }\n",
       "\n",
       "    .dataframe tbody tr th {\n",
       "        vertical-align: top;\n",
       "    }\n",
       "\n",
       "    .dataframe thead th {\n",
       "        text-align: right;\n",
       "    }\n",
       "</style>\n",
       "<table border=\"1\" class=\"dataframe\">\n",
       "  <thead>\n",
       "    <tr style=\"text-align: right;\">\n",
       "      <th></th>\n",
       "      <th>code</th>\n",
       "      <th>name</th>\n",
       "    </tr>\n",
       "  </thead>\n",
       "  <tbody>\n",
       "    <tr>\n",
       "      <th>1952516</th>\n",
       "      <td>M3_SCSAM</td>\n",
       "      <td>Chicago, IL</td>\n",
       "    </tr>\n",
       "    <tr>\n",
       "      <th>1952506</th>\n",
       "      <td>M3_PLPRMT</td>\n",
       "      <td>Chicago, IL</td>\n",
       "    </tr>\n",
       "    <tr>\n",
       "      <th>1952519</th>\n",
       "      <td>M3_SCTTM</td>\n",
       "      <td>Chicago, IL</td>\n",
       "    </tr>\n",
       "    <tr>\n",
       "      <th>1952524</th>\n",
       "      <td>M3_SPTTM</td>\n",
       "      <td>Chicago, IL</td>\n",
       "    </tr>\n",
       "    <tr>\n",
       "      <th>1952419</th>\n",
       "      <td>M3_DOZP</td>\n",
       "      <td>Chicago, IL</td>\n",
       "    </tr>\n",
       "  </tbody>\n",
       "</table>\n",
       "</div>"
      ],
      "text/plain": [
       "              code         name\n",
       "1952516   M3_SCSAM  Chicago, IL\n",
       "1952506  M3_PLPRMT  Chicago, IL\n",
       "1952519   M3_SCTTM  Chicago, IL\n",
       "1952524   M3_SPTTM  Chicago, IL\n",
       "1952419    M3_DOZP  Chicago, IL"
      ]
     },
     "execution_count": 7,
     "metadata": {},
     "output_type": "execute_result"
    }
   ],
   "source": [
    "#Let's try Chicago first.\n",
    "m_chicago = get_metro(\"Chicago, IL\")\n",
    "m_chicago.sample(5, random_state=123)"
   ]
  },
  {
   "cell_type": "code",
   "execution_count": 8,
   "metadata": {},
   "outputs": [
    {
     "data": {
      "text/plain": [
       "<AxesSubplot:xlabel='Date'>"
      ]
     },
     "execution_count": 8,
     "metadata": {},
     "output_type": "execute_result"
    },
    {
     "data": {
      "image/png": "[encoded data removed]",
      "text/plain": [
       "<Figure size 432x288 with 1 Axes>"
      ]
     },
     "metadata": {
      "needs_background": "light"
     },
     "output_type": "display_data"
    }
   ],
   "source": [
    "# Alright, it works. Now, let's try to retrieve and plot data from quandl using a random code from our Chicago df.\n",
    "rng = np.random.default_rng()\n",
    "c_chicago = rng.choice(m_chicago.code.values)\n",
    "sample_c_chicago = quandl.get('ZILLOW/'+c_chicago)\n",
    "sample_c_chicago.plot()"
   ]
  },
  {
   "cell_type": "code",
   "execution_count": 9,
   "metadata": {},
   "outputs": [
    {
     "data": {
      "text/html": [
       "<div>\n",
       "<style scoped>\n",
       "    .dataframe tbody tr th:only-of-type {\n",
       "        vertical-align: middle;\n",
       "    }\n",
       "\n",
       "    .dataframe tbody tr th {\n",
       "        vertical-align: top;\n",
       "    }\n",
       "\n",
       "    .dataframe thead th {\n",
       "        text-align: right;\n",
       "    }\n",
       "</style>\n",
       "<table border=\"1\" class=\"dataframe\">\n",
       "  <thead>\n",
       "    <tr style=\"text-align: right;\">\n",
       "      <th></th>\n",
       "      <th>INDICATOR</th>\n",
       "      <th>CODE</th>\n",
       "    </tr>\n",
       "  </thead>\n",
       "  <tbody>\n",
       "    <tr>\n",
       "      <th>0</th>\n",
       "      <td>Age of Inventory (Public)</td>\n",
       "      <td>AOIP</td>\n",
       "    </tr>\n",
       "    <tr>\n",
       "      <th>1</th>\n",
       "      <td>Buyer Seller Index</td>\n",
       "      <td>BSI</td>\n",
       "    </tr>\n",
       "    <tr>\n",
       "      <th>2</th>\n",
       "      <td>Days on Zillow (Public)</td>\n",
       "      <td>DOZP</td>\n",
       "    </tr>\n",
       "    <tr>\n",
       "      <th>3</th>\n",
       "      <td>Home Sales (NSA)</td>\n",
       "      <td>SALES</td>\n",
       "    </tr>\n",
       "    <tr>\n",
       "      <th>4</th>\n",
       "      <td>Home Sales (SA)</td>\n",
       "      <td>SASALES</td>\n",
       "    </tr>\n",
       "  </tbody>\n",
       "</table>\n",
       "</div>"
      ],
      "text/plain": [
       "                   INDICATOR     CODE\n",
       "0  Age of Inventory (Public)     AOIP\n",
       "1         Buyer Seller Index      BSI\n",
       "2    Days on Zillow (Public)     DOZP\n",
       "3           Home Sales (NSA)    SALES\n",
       "4            Home Sales (SA)  SASALES"
      ]
     },
     "execution_count": 9,
     "metadata": {},
     "output_type": "execute_result"
    }
   ],
   "source": [
    "# Okay, looks good. Next, let's try to specify the indicator. We'll start by loading and inspecting the csv.\n",
    "indicators = pd.read_csv('indicators.csv', delimiter='|')\n",
    "indicators.head()"
   ]
  },
  {
   "cell_type": "code",
   "execution_count": 10,
   "metadata": {},
   "outputs": [
    {
     "data": {
      "application/vnd.jupyter.widget-view+json": {
       "model_id": "",
       "version_major": 2,
       "version_minor": 0
      },
      "text/plain": [
       "Dropdown(description='Name:', options=(('?ola, NM', 'M1559'), ('?on City, CO', 'M1301'), ('Aberdeen, NC', 'M97…"
      ]
     },
     "metadata": {},
     "output_type": "display_data"
    }
   ],
   "source": [
    "# So, I'm thinking. Two parter. Zillow codes run: ZILLOW/{Metro Area Code}_{Indicator Code}. That is, \"ZILLOW/M3_SCSAM\".\n",
    "# To create this, I need a function that produces a metro area code and another that produces an indicator code\n",
    "# Then, of course, one to bring it all together. We'll deal with the hangups as we go.\n",
    "\n",
    "# Since it's hard to know what code means what, and tedious to type out metropolitan area names, let's use widgets.\n",
    "\n",
    "import ipywidgets as widgets\n",
    "from IPython.display import display\n",
    "\n",
    "\n",
    "# First, we'll need some functions to create lists, to in turn to create tuples for\n",
    "# use in the options paramter of widgets.Dropdown()\n",
    "\n",
    "\n",
    "# We'll start with metropolitan areas. First, let's create a function to return a list of all\n",
    "# the unique metropolitan areas. So, we'll eventually pass metro_df['name'] through it.\n",
    "\n",
    "def unique_sorted_values(array):\n",
    "    unique = array.unique().tolist()\n",
    "    unique.sort()\n",
    "    return unique\n",
    "\n",
    "# Next, we'll create a function to search for corresponding metro codes in metro_df['code']. This will\n",
    "# select a random row from the specified metropolitan area and using it to return its exact code.\n",
    "# Recall, metropolitan codes and indicator codes are joined by an underscore ('_'), so we'll need to\n",
    "# seperate them when we get our random row. We will return the first item of the list created\n",
    "# through use of the Split method.\n",
    "\n",
    "def get_metro_code(m_area):\n",
    "    m_query = f'name == \"{m_area}\"'\n",
    "    m_city = metro_df.query(m_query)\n",
    "    m_city_code = rng.choice(m_city.code.values).split('_')[0]\n",
    "    return m_city_code\n",
    "\n",
    "\n",
    "# Now that we have a way to get our specific city code, let's create a function to\n",
    "# make a list out of these codes for our eventual tuple.\n",
    "\n",
    "def metro_code_list(m_list):\n",
    "    m_codes = []\n",
    "    for code in m_list:\n",
    "        m_codes.append(get_metro_code(code))\n",
    "    return m_codes\n",
    "\n",
    "# Done and done. Now, let's run those functions in a zip and covert to list for our list of tuples.\n",
    "m_names = unique_sorted_values(metro_df['name'])\n",
    "code_names = zip(unique_sorted_values(metro_df['name']), metro_code_list(m_names))\n",
    "code_names_list = list(code_names)\n",
    "\n",
    "\n",
    "# Now is time for the widget. Let's pass our list of tuples through the options parameter.\n",
    "dropdown_code_names = widgets.Dropdown(\n",
    "    options=code_names_list,\n",
    "    description='Name:',\n",
    "    disabled=False\n",
    ")\n",
    "\n",
    "# Alright, now let's use widget.Dropdown()'s observe method to take note of changes\n",
    "# from when we reselect options. Got the Lambda function with the help of the lovely \n",
    "# folk over at StackOverflow.\n",
    "\n",
    "dropdown_code_names.observe(\n",
    "    lambda c: plot_content(c['new']) if (c['type'] == 'change' and c['name'] == 'value') else None\n",
    ")\n",
    "# And display.\n",
    "display(dropdown_code_names)"
   ]
  },
  {
   "cell_type": "code",
   "execution_count": 18,
   "metadata": {},
   "outputs": [
    {
     "data": {
      "text/plain": [
       "'M3'"
      ]
     },
     "execution_count": 18,
     "metadata": {},
     "output_type": "execute_result"
    }
   ],
   "source": [
    "# Let's select Chicago again, since we are aware of the result. Should begin with 'M3'\n",
    "# We'll use the value attribute...\n",
    "w_name = dropdown_code_names.value\n",
    "w_name"
   ]
  },
  {
   "cell_type": "code",
   "execution_count": 12,
   "metadata": {},
   "outputs": [
    {
     "data": {
      "application/vnd.jupyter.widget-view+json": {
       "model_id": "",
       "version_major": 2,
       "version_minor": 0
      },
      "text/plain": [
       "Dropdown(description='Indicator:', options=(('Age of Inventory (Public)', 'AOIP'), ('Buyer Seller Index', 'BSI…"
      ]
     },
     "metadata": {},
     "output_type": "display_data"
    }
   ],
   "source": [
    "# That worked! Now, let's do the same for indicators.\n",
    "# The indicators df is a lot neater, so there's little to nothing to be done in advance.\n",
    "# Let's create our tuple and see what gives.\n",
    "\n",
    "ind_code = zip(indicators['INDICATOR'], indicators['CODE'])\n",
    "ind_code_list = list(ind_code)\n",
    "\n",
    "dropdown_ind = widgets.Dropdown(\n",
    "    options=ind_code_list,\n",
    "    description='Indicator:',\n",
    "    disabled=False\n",
    ")\n",
    "\n",
    "dropdown_ind.observe(\n",
    "    lambda c: plot_content(c['new']) if (c['type'] == 'change' and c['name'] == 'value') else None\n",
    ")\n",
    "\n",
    "display(dropdown_ind)"
   ]
  },
  {
   "cell_type": "code",
   "execution_count": 19,
   "metadata": {},
   "outputs": [
    {
     "data": {
      "text/plain": [
       "'SASALES'"
      ]
     },
     "execution_count": 19,
     "metadata": {},
     "output_type": "execute_result"
    }
   ],
   "source": [
    "# Looks good. We'll set it to Home Sales and assign the value to w_ind.\n",
    "w_ind = dropdown_ind.value\n",
    "w_ind"
   ]
  },
  {
   "cell_type": "code",
   "execution_count": 20,
   "metadata": {},
   "outputs": [
    {
     "data": {
      "text/html": [
       "<div>\n",
       "<style scoped>\n",
       "    .dataframe tbody tr th:only-of-type {\n",
       "        vertical-align: middle;\n",
       "    }\n",
       "\n",
       "    .dataframe tbody tr th {\n",
       "        vertical-align: top;\n",
       "    }\n",
       "\n",
       "    .dataframe thead th {\n",
       "        text-align: right;\n",
       "    }\n",
       "</style>\n",
       "<table border=\"1\" class=\"dataframe\">\n",
       "  <thead>\n",
       "    <tr style=\"text-align: right;\">\n",
       "      <th></th>\n",
       "      <th>Value</th>\n",
       "    </tr>\n",
       "    <tr>\n",
       "      <th>Date</th>\n",
       "      <th></th>\n",
       "    </tr>\n",
       "  </thead>\n",
       "  <tbody>\n",
       "    <tr>\n",
       "      <th>2008-06-30</th>\n",
       "      <td>8237.0</td>\n",
       "    </tr>\n",
       "    <tr>\n",
       "      <th>2008-07-31</th>\n",
       "      <td>8485.0</td>\n",
       "    </tr>\n",
       "    <tr>\n",
       "      <th>2008-08-31</th>\n",
       "      <td>8390.0</td>\n",
       "    </tr>\n",
       "    <tr>\n",
       "      <th>2008-09-30</th>\n",
       "      <td>7904.0</td>\n",
       "    </tr>\n",
       "    <tr>\n",
       "      <th>2008-10-31</th>\n",
       "      <td>7499.0</td>\n",
       "    </tr>\n",
       "  </tbody>\n",
       "</table>\n",
       "</div>"
      ],
      "text/plain": [
       "             Value\n",
       "Date              \n",
       "2008-06-30  8237.0\n",
       "2008-07-31  8485.0\n",
       "2008-08-31  8390.0\n",
       "2008-09-30  7904.0\n",
       "2008-10-31  7499.0"
      ]
     },
     "execution_count": 20,
     "metadata": {},
     "output_type": "execute_result"
    }
   ],
   "source": [
    "# That looks good too! Alright, now let's make a function to return a df based\n",
    "# on our selections of Chicago and Home Sales\n",
    "\n",
    "def get_data(m,w):\n",
    "    return quandl.get(f\"ZILLOW/{m}_{w}\")\n",
    "m_chicago_home_sales = get_data(w_name, w_ind)\n",
    "m_chicago_home_sales.head()"
   ]
  },
  {
   "cell_type": "code",
   "execution_count": 21,
   "metadata": {},
   "outputs": [
    {
     "data": {
      "image/png": "[encoded data removed]",
      "text/plain": [
       "<Figure size 432x288 with 1 Axes>"
      ]
     },
     "metadata": {
      "needs_background": "light"
     },
     "output_type": "display_data"
    }
   ],
   "source": [
    "# Worked again! We're on a streak. Let's plot it.\n",
    "import matplotlib.pyplot as plt\n",
    "\n",
    "# And we'll go ahead and create a function while we're at it, whether we use it again or not.\n",
    "def plot_timeseries(axes, xy, title, xlabel, ylabel):\n",
    "    axes.plot(xy)\n",
    "    axes.set_title(title)\n",
    "    axes.set_xlabel(xlabel)\n",
    "    axes.set_ylabel(ylabel)\n",
    "    fig.autofmt_xdate()\n",
    "    \n",
    "\n",
    "fig, ax = plt.subplots()\n",
    "plot_timeseries(ax, m_chicago_home_sales, 'Chicago Home Sales', 'Date', 'Home Sales')"
   ]
  },
  {
   "cell_type": "code",
   "execution_count": 16,
   "metadata": {},
   "outputs": [
    {
     "data": {
      "application/vnd.jupyter.widget-view+json": {
       "model_id": "",
       "version_major": 2,
       "version_minor": 0
      },
      "text/plain": [
       "HBox(children=(Dropdown(description='Name:', index=220, options=(('?ola, NM', 'M1559'), ('?on City, CO', 'M130…"
      ]
     },
     "metadata": {},
     "output_type": "display_data"
    }
   ],
   "source": [
    "# Now, let's link things up. The goal will be a plot that changes as \n",
    "# we modify selections from either dropdown list.\n",
    "\n",
    "# Let's create output instances\n",
    "output = widgets.Output()\n",
    "plot_output = widgets.Output()\n",
    "\n",
    "# Let's initialize new dropdowns, just to avoid trouble.\n",
    "dd_c_names = widgets.Dropdown(\n",
    "    options=code_names_list,\n",
    "    description='Name:',\n",
    "    value='M3',\n",
    "    disabled=False\n",
    ")\n",
    "dd_ind_codes = widgets.Dropdown(\n",
    "    options=ind_code_list,\n",
    "    description='Indicator:',\n",
    "    value='SASALES',\n",
    "    disabled=False\n",
    ")\n",
    "\n",
    "# Okay, let's create a function to handle our output\n",
    "def zillow_select(metro, ind):\n",
    "    \n",
    "    # We'll start with the clear_output method to take care of old selections\n",
    "    output.clear_output()\n",
    "    plot_output.clear_output()\n",
    "    \n",
    "    # And, using 'with output:', we'll capture everything we want to display\n",
    "    with output:\n",
    "        \n",
    "        # First, the code, both to see if things work as intended\n",
    "        # and to have on hand for a manual search in case things go wrong\n",
    "        print(f'ZILLOW/{metro}_{ind}')\n",
    "        \n",
    "        # Then, some error handling. This block will needed because we are\n",
    "        # generating codes rather than selecting them from our metro_df.\n",
    "        # Because of that, there's a chance we request a df from Zillow/Quandl\n",
    "        # that does not actually exist.\n",
    "        try:\n",
    "            selected_df = get_data(metro, ind)\n",
    "            display(selected_df.head())\n",
    "        except:\n",
    "            print('The information you requested does not exist.')\n",
    "    with plot_output:\n",
    "        # Okay, let's run it back.\n",
    "        try:\n",
    "            selected_df.plot()\n",
    "            plt.show()\n",
    "        except:\n",
    "            print('The visualization you requested cannot be created.')\n",
    "    \n",
    "\n",
    "# Now, for event handling. We have two dropdowns to pay attention to with our observe method,\n",
    "# so we will need functions for either. Inside, we will be running our zillow_select function\n",
    "# backwards and fowards with the dropdowns swapped\n",
    "def dd_c_eventhandler(change):\n",
    "    zillow_select(change.new, dd_ind_codes.value)\n",
    "    \n",
    "def dd_ind_eventhandler(change):\n",
    "    zillow_select(dd_c_names.value, change.new)\n",
    "    \n",
    "# And so we observe.\n",
    "dd_c_names.observe(dd_c_eventhandler, names='value')\n",
    "dd_ind_codes.observe(dd_ind_eventhandler, names='value')\n",
    "\n",
    "# And display our dropdowns\n",
    "input_widgets = widgets.HBox([dd_c_names, dd_ind_codes])\n",
    "display(input_widgets)"
   ]
  },
  {
   "cell_type": "code",
   "execution_count": 17,
   "metadata": {},
   "outputs": [
    {
     "data": {
      "application/vnd.jupyter.widget-view+json": {
       "model_id": "",
       "version_major": 2,
       "version_minor": 0
      },
      "text/plain": [
       "Tab(children=(Output(), Output()), _titles={'0': 'Dataframe', '1': 'Plot'})"
      ]
     },
     "metadata": {},
     "output_type": "display_data"
    }
   ],
   "source": [
    "# And, tabs. Because why not? Remember to select the 'Plot' tab to check out the graph.\n",
    "tab = widgets.Tab([output, plot_output])\n",
    "tab.set_title(0, 'Dataframe')\n",
    "tab.set_title(1, 'Plot')\n",
    "display(tab)"
   ]
  },
  {
   "cell_type": "markdown",
   "metadata": {},
   "source": [
    "### In the future, there are a few specific things I want/need to do.\n",
    "- Switch over the usage of metro_df for the dropdown lists, no longer generating codes that could return a 404. It'll probably all be prettier that way as well.\n",
    "- Annotate plots automatically. Will likely have to enrich metro_df towards this end.\n",
    "- Look into options for interactive plots.\n",
    "- Clean names containing special symbols. The dropdowns alone might already reveal some issues.\n",
    "- Jupyter Widgets seem more versatile that I had known. Will enrich displays and options as I learn more.\n",
    "- Add predictive analytics."
   ]
  }
 ],
 "metadata": {
  "kernelspec": {
   "display_name": "Python 3",
   "language": "python",
   "name": "python3"
  },
  "language_info": {
   "codemirror_mode": {
    "name": "ipython",
    "version": 3
   },
   "file_extension": ".py",
   "mimetype": "text/x-python",
   "name": "python",
   "nbconvert_exporter": "python",
   "pygments_lexer": "ipython3",
   "version": "3.9.1"
  },
  "toc-autonumbering": false,
  "toc-showmarkdowntxt": true
 },
 "nbformat": 4,
 "nbformat_minor": 4
}
